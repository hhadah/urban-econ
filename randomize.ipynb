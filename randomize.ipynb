{
 "cells": [
  {
   "cell_type": "code",
   "execution_count": 1,
   "metadata": {},
   "outputs": [],
   "source": [
    "import pandas as pd\n",
    "import random"
   ]
  },
  {
   "cell_type": "code",
   "execution_count": 2,
   "metadata": {},
   "outputs": [],
   "source": [
    "def randomize_students(reading_titles, excel_file):\n",
    "    # Load the Excel file containing student names\n",
    "    df = pd.read_csv(excel_file)\n",
    "\n",
    "    # Ensure the file has a column named 'student'\n",
    "    if 'student' not in df.columns:\n",
    "        raise ValueError(\"The Excel file must have a column named 'student'.\")\n",
    "\n",
    "    # Extract the list of student names\n",
    "    students = df['student'].tolist()\n",
    "\n",
    "    # Process names to show first name and last initial\n",
    "    processed_students = []\n",
    "    for student in students:\n",
    "        if \",\" in student:\n",
    "            last, first = student.split(\",\")\n",
    "            first = first.strip()\n",
    "            last_initial = last.strip()[0]\n",
    "            processed_students.append(f\"{first} {last_initial}.\")\n",
    "        else:\n",
    "            processed_students.append(student)\n",
    "\n",
    "    # Shuffle the list of processed student names randomly\n",
    "    random.shuffle(processed_students)\n",
    "\n",
    "    # Create groups based on the number of reading titles\n",
    "    num_readings = len(reading_titles)\n",
    "    reading_groups = {reading: [] for reading in reading_titles}\n",
    "\n",
    "    for i, student in enumerate(processed_students):\n",
    "        # Distribute students into groups in a round-robin fashion\n",
    "        reading = reading_titles[i % num_readings]\n",
    "        reading_groups[reading].append(student)\n",
    "\n",
    "    # Output the focus groups\n",
    "    print(\"Focus Groups (by reading):\")\n",
    "    for reading, group in reading_groups.items():\n",
    "        print(f\"Reading: {reading}: {', '.join(group)}\")\n",
    "\n",
    "    # Create 10 groups for the case study round\n",
    "    num_groups = 12\n",
    "    case_study_groups = {f\"Group {i+1}\": [] for i in range(num_groups)}\n",
    "\n",
    "    # Flatten all students into a single list and shuffle again\n",
    "    all_students = [student for group in reading_groups.values() for student in group]\n",
    "    random.shuffle(all_students)\n",
    "\n",
    "    for i, student in enumerate(all_students):\n",
    "        group = f\"Group {(i % num_groups) + 1}\"\n",
    "        case_study_groups[group].append(student)\n",
    "\n",
    "    # Output the case study groups\n",
    "    print(\"Case Study Groups:\")\n",
    "    for group, members in case_study_groups.items():\n",
    "        print(f\"{group}: {', '.join(members)}\")\n",
    "\n",
    "    return reading_groups, case_study_groups"
   ]
  },
  {
   "cell_type": "code",
   "execution_count": 3,
   "metadata": {},
   "outputs": [
    {
     "name": "stdout",
     "output_type": "stream",
     "text": [
      "Focus Groups (by reading):\n",
      "Reading: Newborn health: Luc G., Talia B., Ben C., Dagny B., Austin C., Lucas S., Sam T.\n",
      "Reading: Gender-wage gap: Aaron G., Casper G., Brendan M., Andrew C., Natasha S., Caelan T., Ittai R.\n",
      "Reading: Labor Market outcomes: Luke R., Will P., Gabriela S., Luke B., Ignacio M., Alan B., Ellie C.\n",
      "Reading: Educational choices: Brandy B., Kunran Z., Veronica O., Wyatt S., Felicia H., Will L., Evan O.\n",
      "Reading: CDC Report - Overview: Gabby F., Alec T., Andrew S., Joao Pedro R., Claire F., Aryanna B., Samantha O.\n",
      "Reading: Financial control and cash transfers #1: Cole R., Abigail W., Henry M., Indie J., Hewett L., Serena Z., Nicholas K.\n",
      "Reading: Financial control and cash transfers #2: Jessica Y., Jack D., Lainie S., Mitch L., Edward F., Sydney F., Joe M.\n",
      "Reading: Absenteeism: Sawyer P., Lucy W., Marin K., Lola H., Anjali H., Jack M., Levi S.\n",
      "Reading: Aggregate costs: Joshua B., Roman S., Katelyn B., Charlie M., Casey B., Alexis A.\n",
      "Case Study Groups:\n",
      "Group 1: Charlie M., Abigail W., Will P., Serena Z., Claire F., Cole R.\n",
      "Group 2: Alec T., Sydney F., Andrew C., Alan B., Sam T., Alexis A.\n",
      "Group 3: Dagny B., Lucy W., Natasha S., Katelyn B., Brandy B.\n",
      "Group 4: Roman S., Lola H., Andrew S., Ellie C., Talia B.\n",
      "Group 5: Marin K., Sawyer P., Aaron G., Jack D., Gabby F.\n",
      "Group 6: Luke B., Ignacio M., Luke R., Evan O., Mitch L.\n",
      "Group 7: Hewett L., Austin C., Jack M., Edward F., Casper G.\n",
      "Group 8: Aryanna B., Joshua B., Joao Pedro R., Anjali H., Indie J.\n",
      "Group 9: Gabriela S., Wyatt S., Lainie S., Will L., Nicholas K.\n",
      "Group 10: Ben C., Caelan T., Felicia H., Samantha O., Kunran Z.\n",
      "Group 11: Joe M., Luc G., Casey B., Lucas S., Veronica O.\n",
      "Group 12: Brendan M., Ittai R., Levi S., Jessica Y., Henry M.\n"
     ]
    }
   ],
   "source": [
    "# Example usage\n",
    "if __name__ == \"__main__\":\n",
    "    reading_titles = [\"Newborn health\", \"Gender-wage gap\", \"Labor Market outcomes\", \"Educational choices\", \"CDC Report - Overview\", \"Financial control and cash transfers #1\", \"Financial control and cash transfers #2\", \"Absenteeism\", \"Aggregate costs\", ]  # Replace with your actual reading titles\n",
    "    excel_file = \"/Users/hhadah/Downloads/class.csv\"  # Replace with the path to your Excel file\n",
    "\n",
    "    reading_groups, case_study_groups = randomize_students(reading_titles, excel_file)\n"
   ]
  },
  {
   "cell_type": "code",
   "execution_count": null,
   "metadata": {},
   "outputs": [],
   "source": []
  }
 ],
 "metadata": {
  "kernelspec": {
   "display_name": "base",
   "language": "python",
   "name": "python3"
  },
  "language_info": {
   "codemirror_mode": {
    "name": "ipython",
    "version": 3
   },
   "file_extension": ".py",
   "mimetype": "text/x-python",
   "name": "python",
   "nbconvert_exporter": "python",
   "pygments_lexer": "ipython3",
   "version": "3.9.13"
  }
 },
 "nbformat": 4,
 "nbformat_minor": 2
}
