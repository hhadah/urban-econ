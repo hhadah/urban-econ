{
 "cells": [
  {
   "cell_type": "code",
   "execution_count": 1,
   "metadata": {},
   "outputs": [],
   "source": [
    "import pandas as pd\n",
    "import random"
   ]
  },
  {
   "cell_type": "code",
   "execution_count": 3,
   "metadata": {},
   "outputs": [],
   "source": [
    "def randomize_students(reading_titles, excel_file):\n",
    "    # Load the Excel file containing student names\n",
    "    df = pd.read_csv(excel_file)\n",
    "\n",
    "    # Ensure the file has a column named 'student'\n",
    "    if 'student' not in df.columns:\n",
    "        raise ValueError(\"The Excel file must have a column named 'student'.\")\n",
    "\n",
    "    # Extract the list of student names\n",
    "    students = df['student'].tolist()\n",
    "\n",
    "    # Process names to show first name and last initial\n",
    "    processed_students = []\n",
    "    for student in students:\n",
    "        if \",\" in student:\n",
    "            last, first = student.split(\",\")\n",
    "            first = first.strip()\n",
    "            last_initial = last.strip()[0]\n",
    "            processed_students.append(f\"{first} {last_initial}.\")\n",
    "        else:\n",
    "            processed_students.append(student)\n",
    "\n",
    "    # Shuffle the list of processed student names randomly\n",
    "    random.shuffle(processed_students)\n",
    "\n",
    "    # Create groups based on the number of reading titles\n",
    "    num_readings = len(reading_titles)\n",
    "    reading_groups = {reading: [] for reading in reading_titles}\n",
    "\n",
    "    for i, student in enumerate(processed_students):\n",
    "        # Distribute students into groups in a round-robin fashion\n",
    "        reading = reading_titles[i % num_readings]\n",
    "        reading_groups[reading].append(student)\n",
    "\n",
    "    # Output the focus groups\n",
    "    print(\"Focus Groups (by reading):\")\n",
    "    for reading, group in reading_groups.items():\n",
    "        print(f\"Reading: {reading}: {', '.join(group)}\")\n",
    "\n",
    "    # Create 10 groups for the case study round\n",
    "    num_groups = 12\n",
    "    case_study_groups = {f\"Group {i+1}\": [] for i in range(num_groups)}\n",
    "\n",
    "    # Flatten all students into a single list and shuffle again\n",
    "    all_students = [student for group in reading_groups.values() for student in group]\n",
    "    random.shuffle(all_students)\n",
    "\n",
    "    for i, student in enumerate(all_students):\n",
    "        group = f\"Group {(i % num_groups) + 1}\"\n",
    "        case_study_groups[group].append(student)\n",
    "\n",
    "    # Output the case study groups\n",
    "    print(\"Case Study Groups:\")\n",
    "    for group, members in case_study_groups.items():\n",
    "        print(f\"{group}: {', '.join(members)}\")\n",
    "\n",
    "    return reading_groups, case_study_groups"
   ]
  },
  {
   "cell_type": "code",
   "execution_count": 4,
   "metadata": {},
   "outputs": [
    {
     "name": "stdout",
     "output_type": "stream",
     "text": [
      "Focus Groups (by reading):\n",
      "Reading: Cheng, Long - 2018: Katelyn B., Cole R., Levi S., Brendan M., Evan O., Jessica Y., Sydney F., Andrew C., Alexis A., Jack M., Joshua B., Luke R., Natasha S.\n",
      "Reading: Dur, Vollaard - 2019: Veronica O., Mitch L., Andrew S., Gabriela S., Samantha O., Roman S., Talia B., Aaron G., Ittai R., Abigail W., Jack D., Henry M., Joao Pedro R.\n",
      "Reading: Di Tella, Schargrodsky - 2004: Serena Z., Edward F., Anjali H., Austin C., Lola H., Casey B., Sawyer P., Felicia H., Lucas S., Caelan T., Marin K., Indie J.\n",
      "Reading: Levitt - 1997: Alec T., Joe M., Lucy W., Alan B., Nicholas K., Brandy B., Luc G., Ignacio M., Will L., Ellie C., Wyatt S., Lainie S.\n",
      "Reading: Sullivan, O'Keeffe - 2017: Will P., Charlie M., Gabby F., Sam T., Ben C., Kunran Z., Claire F., Aryanna B., Luke B., Dagny B., Casper G., Hewett L.\n",
      "Case Study Groups:\n",
      "Group 1: Gabriela S., Brendan M., Levi S., Ellie C., Sawyer P., Ignacio M.\n",
      "Group 2: Sam T., Roman S., Alexis A., Lainie S., Andrew S., Alan B.\n",
      "Group 3: Nicholas K., Joao Pedro R., Veronica O., Casey B., Charlie M.\n",
      "Group 4: Ben C., Claire F., Casper G., Aryanna B., Will P.\n",
      "Group 5: Jessica Y., Mitch L., Lola H., Henry M., Samantha O.\n",
      "Group 6: Alec T., Brandy B., Will L., Luke R., Marin K.\n",
      "Group 7: Kunran Z., Indie J., Hewett L., Sydney F., Abigail W.\n",
      "Group 8: Aaron G., Wyatt S., Gabby F., Dagny B., Lucy W.\n",
      "Group 9: Joe M., Serena Z., Austin C., Natasha S., Felicia H.\n",
      "Group 10: Edward F., Joshua B., Evan O., Cole R., Andrew C.\n",
      "Group 11: Caelan T., Ittai R., Anjali H., Jack D., Jack M.\n",
      "Group 12: Luke B., Talia B., Lucas S., Katelyn B., Luc G.\n"
     ]
    }
   ],
   "source": [
    "# Example usage\n",
    "if __name__ == \"__main__\":\n",
    "    reading_titles = [\"Cheng, Long - 2018\", \"Dur, Vollaard - 2019\", \"Di Tella, Schargrodsky - 2004\", \"Levitt - 1997\", \"Sullivan, O'Keeffe - 2017\"]  # Replace with your actual reading titles\n",
    "    excel_file = \"/Users/hhadah/Downloads/class.csv\"  # Replace with the path to your Excel file\n",
    "\n",
    "    reading_groups, case_study_groups = randomize_students(reading_titles, excel_file)\n"
   ]
  },
  {
   "cell_type": "code",
   "execution_count": null,
   "metadata": {},
   "outputs": [],
   "source": []
  }
 ],
 "metadata": {
  "kernelspec": {
   "display_name": "base",
   "language": "python",
   "name": "python3"
  },
  "language_info": {
   "codemirror_mode": {
    "name": "ipython",
    "version": 3
   },
   "file_extension": ".py",
   "mimetype": "text/x-python",
   "name": "python",
   "nbconvert_exporter": "python",
   "pygments_lexer": "ipython3",
   "version": "3.9.13"
  }
 },
 "nbformat": 4,
 "nbformat_minor": 2
}
